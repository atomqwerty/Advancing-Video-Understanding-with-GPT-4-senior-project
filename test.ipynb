{
 "cells": [
  {
   "cell_type": "code",
   "execution_count": 7,
   "metadata": {},
   "outputs": [
    {
     "data": {
      "text/plain": [
       "dict_values(['What is the title of the lecture?', 'Why does the lecturer mention about driving a car?', 'in scene 2 what formula do we have?', 'Who is the lecturer?', 'What is the effect of exponential progress?', 'Which part is mention about iphone6?', 'When does he congratulate their student?', 'Summarize the scene 1', 'Why they compare predict long-term future with the fog?', 'What period of time that we can predict?'])"
      ]
     },
     "execution_count": 7,
     "metadata": {},
     "output_type": "execute_result"
    }
   ],
   "source": [
    "import json\n",
    "def read_queries_from_file(file_path):\n",
    "    f = open(file_path)\n",
    "    data = json.load(f)\n",
    "    return (data['Question'].values())\n",
    "read_queries_from_file('QA_2min_csv.json')\n"
   ]
  },
  {
   "cell_type": "code",
   "execution_count": 1,
   "metadata": {},
   "outputs": [],
   "source": [
    "def generate_Persona_txt(clip_descriptions):\n",
    "    prompt = (\n",
    "        \"Your goal is to answer questions and timestamp of the answer that above by using the data that i will provide to you next.\"\n",
    "        \"example of answer like question: What is neural network, answer: the neural network is A neural network is a computational model inspired by the structure and functioning of the human brain., timestamp:0:00:23\"\n",
    "        \"example of answer like question: When is neural network, answer: the neural network in timestamp, timestamp:0:00:23\\n\\n\"\n",
    "    )\n",
    "    prompt += \"\\n\\n\".join(clip_descriptions)\n",
    "    write_txt(prompt,\"promt\")\n",
    "\n",
    "def write_txt(str,name):\n",
    "    with open(name+'.txt', 'w',encoding=\"utf-8\") as f:\n",
    "        f.write(str) \n"
   ]
  },
  {
   "cell_type": "code",
   "execution_count": 4,
   "metadata": {},
   "outputs": [
    {
     "name": "stderr",
     "output_type": "stream",
     "text": [
      "c:\\Users\\ilham\\anaconda3\\envs\\atom\\Lib\\site-packages\\tqdm\\auto.py:21: TqdmWarning: IProgress not found. Please update jupyter and ipywidgets. See https://ipywidgets.readthedocs.io/en/stable/user_install.html\n",
      "  from .autonotebook import tqdm as notebook_tqdm\n",
      "VideoManager is deprecated and will be removed.\n"
     ]
    }
   ],
   "source": [
    "import tools_SceneDetector as T_sceneDet\n",
    "import tools_OCRandTextCombineder as T_OCR\n",
    "\n",
    "video_path = 'Video\\\\Lecture 16.4 — The fog of progress — [ Deep Learning _ Geoffrey Hinton _ UofT ].mp4'\n",
    "output_dir = 'clips/'\n",
    "json_transcript = 'data'\n",
    "\n",
    "scenes = T_sceneDet.scene_detection(video_path)\n",
    "\n",
    "clip_descriptions = T_OCR.clip_ocr(output_dir, json_transcript ,scenes)\n",
    "\n",
    "generate_Persona_txt(clip_descriptions)"
   ]
  },
  {
   "cell_type": "code",
   "execution_count": null,
   "metadata": {},
   "outputs": [],
   "source": []
  }
 ],
 "metadata": {
  "kernelspec": {
   "display_name": "atom",
   "language": "python",
   "name": "python3"
  },
  "language_info": {
   "codemirror_mode": {
    "name": "ipython",
    "version": 3
   },
   "file_extension": ".py",
   "mimetype": "text/x-python",
   "name": "python",
   "nbconvert_exporter": "python",
   "pygments_lexer": "ipython3",
   "version": "3.12.4"
  }
 },
 "nbformat": 4,
 "nbformat_minor": 2
}
